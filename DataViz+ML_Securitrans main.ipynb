{
 "cells": [
  {
   "cell_type": "code",
   "execution_count": 1,
   "id": "d4de9afb",
   "metadata": {
    "scrolled": false
   },
   "outputs": [
    {
     "name": "stdout",
     "output_type": "stream",
     "text": [
      "ok\n",
      "<connection object at 0x10f3706d0; dsn: 'user=postgres password=xxx dbname=database_asc host=localhost port=5432', closed: 0>\n"
     ]
    }
   ],
   "source": [
    "import psycopg2\n",
    "import dateutil.parser\n",
    "import os \n",
    "import sys\n",
    "import itertools\n",
    "import matplotlib.pyplot as plt\n",
    "import database_connection as db_connection\n",
    "import json\n",
    "import pandas as pd\n",
    "import numpy as np\n",
    "from functools import lru_cache"
   ]
  },
  {
   "cell_type": "code",
   "execution_count": 2,
   "id": "89890364",
   "metadata": {},
   "outputs": [],
   "source": [
    "request  = \"\"\"SELECT * FROM partner_alma_data.payload_pending_stat\n",
    "ORDER BY equipment_id ASC\"\"\"\n",
    "df = db_connection.send_request((request))\n",
    "field='c28'"
   ]
  },
  {
   "cell_type": "code",
   "execution_count": 3,
   "id": "46d2d4f3",
   "metadata": {
    "scrolled": true
   },
   "outputs": [],
   "source": [
    "values_payload_eqp = {element:list() for element in df.equipment_id.unique() }"
   ]
  },
  {
   "cell_type": "code",
   "execution_count": 4,
   "id": "79b04e1a",
   "metadata": {
    "scrolled": false
   },
   "outputs": [],
   "source": [
    "df_value_equipment_id = pd.DataFrame(df[['equipment_id','value']])"
   ]
  },
  {
   "cell_type": "code",
   "execution_count": null,
   "id": "3c7678cc",
   "metadata": {
    "scrolled": true
   },
   "outputs": [],
   "source": [
    "def get_all_fields(df):\n",
    "    all_fields = set()\n",
    "    for val in df.value:\n",
    "        try:\n",
    "            all_fields = all_fields.union(set(list(json.loads(val).keys())))\n",
    "        except:\n",
    "            pass\n",
    "    return all_fields\n",
    "all_fields=get_all_fields(df_value_equipment_id)"
   ]
  },
  {
   "cell_type": "code",
   "execution_count": null,
   "id": "54c65578",
   "metadata": {},
   "outputs": [],
   "source": [
    "def get_sensors_value_eqp_datetime(field):\n",
    "    \n",
    "    values_payload_eqp = {element:list() for element in df.equipment_id.unique() }\n",
    "    for eqp_id in values_payload_eqp.keys():\n",
    "        temp = df_value_equipment_id.groupby('equipment_id').get_group(eqp_id)\n",
    "        try:\n",
    "\n",
    "            payloads = [(json.loads(element).get(field),json.loads(element).get(\"t\")) for element in temp.value.values if json.loads(element).get(field)]\n",
    "            values_payload_eqp[eqp_id]= payloads\n",
    "        except:\n",
    "            pass\n",
    "    return values_payload_eqp        "
   ]
  },
  {
   "cell_type": "code",
   "execution_count": null,
   "id": "5ad1a707",
   "metadata": {},
   "outputs": [],
   "source": [
    "def get_by_day(list_tuple):\n",
    "    groups = []\n",
    "    uniquekeys = []\n",
    "    for k, g in itertools.groupby(list_tuple, key=lambda x: x[1].date()):\n",
    "       groups.append(k)    \n",
    "       uniquekeys.append(list(g))\n",
    "\n",
    "    return uniquekeys\n"
   ]
  },
  {
   "cell_type": "code",
   "execution_count": null,
   "id": "5ca03f33",
   "metadata": {},
   "outputs": [],
   "source": [
    "def get_graph(x,y,title):\n",
    "    plt.plot(x,y)\n",
    "    plt.title(title)\n",
    "    plt.xticks(rotation=45) \n",
    "    plt.figure()"
   ]
  },
  {
   "cell_type": "code",
   "execution_count": null,
   "id": "1ae247b9",
   "metadata": {},
   "outputs": [],
   "source": [
    "def get_consecutive_date(list_date):\n",
    "    res = list()\n",
    "    for element in list_date:\n",
    "        if len(res)==0:\n",
    "            res.append(element)\n",
    "        else:\n",
    "            if abs((res[-1][-1][1]-element[0][1]).days)==1:\n",
    "                res[-1]=unique_consecutive(res[-1],element)\n",
    "            else:\n",
    "                res.append(element)\n",
    "    return res"
   ]
  },
  {
   "cell_type": "code",
   "execution_count": null,
   "id": "036025cd",
   "metadata": {
    "scrolled": true
   },
   "outputs": [],
   "source": [
    "def get_graph_by_day(list_tuple):\n",
    "    to_plot = get_by_day(list_tuple)\n",
    "    \n",
    "    for element in to_plot:\n",
    "        x = [e[1] for e in element ]\n",
    "        y = [e[0] for e in element]\n",
    "        title = str(element[0][1].date())\n",
    "        get_graph(x,y,title)\n",
    "        "
   ]
  },
  {
   "cell_type": "code",
   "execution_count": null,
   "id": "94c7552d",
   "metadata": {},
   "outputs": [],
   "source": [
    "def unique_consecutive(list1,list2):\n",
    "    res = list()\n",
    "    for element in list1:\n",
    "        res.append(element)\n",
    "    for element in list2:\n",
    "        res.append(element)\n",
    "    return res"
   ]
  },
  {
   "cell_type": "code",
   "execution_count": null,
   "id": "b987755c",
   "metadata": {},
   "outputs": [],
   "source": [
    "result = get_sensors_value_eqp_datetime(field)"
   ]
  },
  {
   "cell_type": "code",
   "execution_count": null,
   "id": "0ff5b081",
   "metadata": {
    "scrolled": true
   },
   "outputs": [],
   "source": [
    "result"
   ]
  },
  {
   "cell_type": "code",
   "execution_count": null,
   "id": "f331301f",
   "metadata": {
    "scrolled": true
   },
   "outputs": [],
   "source": [
    "def get_maxs(offset):\n",
    "    if offset<=0:\n",
    "        return\n",
    "    if offset==1:\n",
    "        max_temp = sorted([(len(result[key]),key) for key in result.keys()])[-1]\n",
    "        eqpmax_date = [(element[0],dateutil.parser.parse(element[1])) for element in result[max_temp[-1]]]\n",
    "        eqpmax_date=sorted(eqpmax_date,key = lambda x:x[1])\n",
    "        return max_temp[1],eqpmax_date\n",
    "    else:\n",
    "        \n",
    "        max_temp = sorted([(len(result[key]),key) for key in result.keys()])\n",
    "        max_temp.reverse()\n",
    "        keys =[ e[1] for e in max_temp[:offset]]\n",
    "        max_temp = [ e[1] for e in max_temp[:offset]]\n",
    "        eqpmaxs_dates = list()\n",
    "        for value in max_temp: ##ici on a la list des id des n equipement ayant remontés le plus de données\n",
    "            temp = ([(element[0],dateutil.parser.parse(element[1])) for element in result[value]])\n",
    "            temp = sorted(temp,key = lambda x:x[1])\n",
    "            eqpmaxs_dates.append(temp)\n",
    "        return dict(zip(keys,eqpmaxs_dates))"
   ]
  },
  {
   "cell_type": "code",
   "execution_count": null,
   "id": "560f2a90",
   "metadata": {},
   "outputs": [],
   "source": [
    "def optimized_offset(dict_values):\n",
    "    return len([a for a in dict_values.items() if len(a[1])>0])"
   ]
  },
  {
   "cell_type": "code",
   "execution_count": null,
   "id": "55a56784",
   "metadata": {},
   "outputs": [],
   "source": [
    "#result -> len =304\n",
    "# non vide = 28\n",
    "#vide = 276\n",
    "#\\/\n",
    "optimized_offset(result)"
   ]
  },
  {
   "cell_type": "markdown",
   "id": "33b9b447",
   "metadata": {},
   "source": [
    "### print the group of consecutives datetime with values associated ### \n",
    "dataframes_per_consecutives_days"
   ]
  },
  {
   "cell_type": "code",
   "execution_count": null,
   "id": "50a1253b",
   "metadata": {
    "scrolled": true
   },
   "outputs": [],
   "source": [
    "dfs = list()\n",
    "max_ = get_maxs(optimized_offset(result))\n",
    "for key,value in max_.items(): \n",
    "    for element in get_by_day(value):\n",
    "        temp = [(key,a,b) for a,b in element ]\n",
    "        dfs.append(pd.DataFrame(data=temp, columns = ['Equipment_id','Value','Date']))\n",
    "    for d in dfs:\n",
    "        d['Value']=d['Value'].abs()\n",
    "\n",
    "#for element in dataframes_per_consecutives_days:\n",
    "#plt.title(element.Equipment_id.unique())\n",
    "#plt.plot(element.Date,element.Value)\n",
    "#plt.xticks(rotation=60)\n",
    "#plt.show()"
   ]
  },
  {
   "cell_type": "code",
   "execution_count": null,
   "id": "8a108ecd",
   "metadata": {},
   "outputs": [],
   "source": [
    "dfs"
   ]
  },
  {
   "cell_type": "code",
   "execution_count": null,
   "id": "a703db55",
   "metadata": {
    "scrolled": true
   },
   "outputs": [],
   "source": [
    "#eqp qui remontent des T°\n",
    "s = set()\n",
    "for element in dfs:\n",
    "    s.add(element.Equipment_id.iloc[1])\n",
    "print(list(s))"
   ]
  },
  {
   "cell_type": "markdown",
   "id": "2860a2a9",
   "metadata": {},
   "source": [
    "## ça semble ok "
   ]
  },
  {
   "cell_type": "code",
   "execution_count": null,
   "id": "33307d69",
   "metadata": {},
   "outputs": [],
   "source": [
    "def save_datasets():\n",
    "    path = os.getcwd()+\"/DataFrames/\"+str(field)\n",
    "    choice = input('save ?')\n",
    "    if(choice in ['yes',',no'] and choice =='yes'):\n",
    "        for e in dfs:\n",
    "            key = str(e.Equipment_id.unique()[-1])\n",
    "            if not os.path.exists(path+\"/\"+key):\n",
    "                os.mkdir(path+\"/\"+key)\n",
    "                print(\"Directory \" , path+\"/\"+key ,  \" Created \")\n",
    "            timestamp = str(e.Date[0].date())\n",
    "            e.to_csv(path_or_buf=path+\"/{}/{}.csv\".format(key,timestamp))\n",
    "            print('Dataset saved to '+path+'/'+key)\n",
    "            #pour la suite on va sur colab -> diminution des temps de traitement et peut etre ML pour la modelisation de la courbe"
   ]
  },
  {
   "cell_type": "markdown",
   "id": "db66b873",
   "metadata": {
    "scrolled": true
   },
   "source": [
    "#### save_datasets()"
   ]
  },
  {
   "cell_type": "code",
   "execution_count": null,
   "id": "0cd990de",
   "metadata": {},
   "outputs": [],
   "source": [
    "\n"
   ]
  }
 ],
 "metadata": {
  "kernelspec": {
   "display_name": "Python 3",
   "language": "python",
   "name": "python3"
  },
  "language_info": {
   "codemirror_mode": {
    "name": "ipython",
    "version": 3
   },
   "file_extension": ".py",
   "mimetype": "text/x-python",
   "name": "python",
   "nbconvert_exporter": "python",
   "pygments_lexer": "ipython3",
   "version": "3.9.4"
  }
 },
 "nbformat": 4,
 "nbformat_minor": 5
}
